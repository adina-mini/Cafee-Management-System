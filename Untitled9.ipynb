{
  "nbformat": 4,
  "nbformat_minor": 0,
  "metadata": {
    "colab": {
      "provenance": [],
      "authorship_tag": "ABX9TyMGRdbsaQwI7NF5231YOqbg",
      "include_colab_link": true
    },
    "kernelspec": {
      "name": "python3",
      "display_name": "Python 3"
    },
    "language_info": {
      "name": "python"
    }
  },
  "cells": [
    {
      "cell_type": "markdown",
      "metadata": {
        "id": "view-in-github",
        "colab_type": "text"
      },
      "source": [
        "<a href=\"https://colab.research.google.com/github/adina-mini/Cafee-Management-System/blob/main/Untitled9.ipynb\" target=\"_parent\"><img src=\"https://colab.research.google.com/assets/colab-badge.svg\" alt=\"Open In Colab\"/></a>"
      ]
    },
    {
      "cell_type": "code",
      "execution_count": 1,
      "metadata": {
        "colab": {
          "base_uri": "https://localhost:8080/"
        },
        "id": "ZCjvZ-HkJda6",
        "outputId": "a64c8d1c-3701-4264-dcd0-818130380ac3"
      },
      "outputs": [
        {
          "output_type": "stream",
          "name": "stdout",
          "text": [
            "WELCOME to the python Resturant\n",
            "Happy to see you here \n",
            "We have the following menu\n",
            "Paratha:100\n",
            "Chai:80\n",
            "egg:50\n",
            "milk:100\n",
            "Achar:50\n",
            "Place your order\n",
            "Place your first item egg\n",
            "Your item has been added\n",
            "Do YOU want to add another item (YES / NO)no\n",
            "no\n",
            "Okie\n",
            "your bill is 50\n",
            "Thanks for Trusting us \n"
          ]
        }
      ],
      "source": [
        "# MENU\n",
        "menu = {\n",
        "    'Paratha':100,\n",
        "    'Chai':80,\n",
        "    'Cgg':50,\n",
        "    'Milk':100,\n",
        "    'Achar':50,\n",
        "    'Cofee':100\n",
        "}\n",
        "\n",
        "#greet\n",
        "def greet():\n",
        "\n",
        "   print(\"WELCOME to the python Resturant\")\n",
        "   print(f\"Happy to see you here \")\n",
        "   print(\"We have the following menu\\nParatha:100\\nChai:80\\negg:50\\nmilk:100\\nAchar:50\")\n",
        "\n",
        "\n",
        "greet()\n",
        "order_total = 0\n",
        "\n",
        "# Order Placement\n",
        "print(\"Place your order\")\n",
        "item_1 = str(input(\"Place your first item \"))\n",
        "if item_1 in menu:\n",
        "  order_total += menu[item_1]\n",
        "  print(f\"Your item has been added\")\n",
        "else:\n",
        "  print(\"Chooose something from the menu  \")\n",
        "\n",
        "  print(f\"{item_1} is not available\")\n",
        "\n",
        "# Second Order Placement\n",
        "item_2 = str(input(\"Do YOU want to add another item (YES / NO)\"))\n",
        "\n",
        "item_2 = item_2.lower()\n",
        "\n",
        "print(item_2)\n",
        "if item_2 ==\"yes\":\n",
        "  sec_item = str(input(\"What you want to order\"))\n",
        "  if sec_item in menu:\n",
        "   order_total += menu[sec_item]\n",
        "   print(f\"Your order has added {sec_item}\")\n",
        "  else:\n",
        "   print(\"Chooose something from the menu  \")\n",
        "   print(f\"{sec_item} is nopt available\")\n",
        "\n",
        "# Departure\n",
        "\n",
        "print(\"Thank You So Much\")\n",
        "print(f\"your bill is {order_total}\")\n",
        "print(\"Thanks for Trusting us \")\n",
        "\n",
        "\n",
        "\n"
      ]
    }
  ]
}